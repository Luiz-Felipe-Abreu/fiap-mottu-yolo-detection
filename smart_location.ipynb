{
 "cells": [
  {
   "cell_type": "markdown",
   "id": "b9bb84b7",
   "metadata": {},
   "source": [
    "## 1. Instalação e Setup"
   ]
  },
  {
   "cell_type": "code",
   "execution_count": null,
   "id": "f8e158fb",
   "metadata": {},
   "outputs": [],
   "source": [
    "# YOLO + StrongSORT + OpenCV + Supervision\n",
    "!pip install ultralytics supervision opencv-python --quiet\n"
   ]
  },
  {
   "cell_type": "code",
   "execution_count": 2,
   "id": "7db1507f",
   "metadata": {},
   "outputs": [],
   "source": [
    "# Importação das bibliotecas necessárias\n",
    "from ultralytics import YOLO\n",
    "import cv2\n",
    "import os\n",
    "from pathlib import Path\n",
    "import matplotlib.pyplot as plt"
   ]
  },
  {
   "cell_type": "markdown",
   "id": "2d0b7acd",
   "metadata": {},
   "source": [
    "## 2. Carregando um modelo pré-treinado"
   ]
  },
  {
   "cell_type": "code",
   "execution_count": null,
   "id": "66e7c775",
   "metadata": {},
   "outputs": [],
   "source": [
    "# Carregando o modelo YOLOv8n (nano - versão mais leve)\n",
    "model = YOLO('yolov8x.pt')\n",
    "\n",
    "# Também podemos carregar diferentes tamanhos de modelo:\n",
    "# model = YOLO('yolov8s.pt')  # small\n",
    "# model = YOLO('yolov8m.pt')  # medium\n",
    "# model = YOLO('yolov8l.pt')  # large\n",
    "# model = YOLO('yolov8x.pt')  # extra large\n",
    "\n",
    "# Ativando o StrongSORT como rastreador\n",
    "model.trackers = \"botsort.yaml\"  # pode trocar por 'strongsort.yaml' se preferir"
   ]
  },
  {
   "cell_type": "markdown",
   "id": "f9cee0f1",
   "metadata": {},
   "source": [
    "## 3. Função auxiliar de visualização"
   ]
  },
  {
   "cell_type": "code",
   "execution_count": 27,
   "id": "130559e3",
   "metadata": {},
   "outputs": [],
   "source": [
    "def mostrar_deteccao(imagem, resultados):\n",
    "    # Mostra a imagem com as detecções do YOLOv8\n",
    "    if isinstance(imagem, str):\n",
    "        imagem = cv2.imread(imagem)\n",
    "        imagem = cv2.cvtColor(imagem, cv2.COLOR_BGR2RGB)\n",
    "    \n",
    "    plt.figure(figsize=(10, 10))\n",
    "    plt.imshow(resultados[0].plot())\n",
    "    plt.axis('off')\n",
    "    plt.show()\n",
    "\n",
    "    # Printando detalhes das detecções\n",
    "    caixas = resultados[0].boxes\n",
    "    print(f\"\\nForam detectados {len(caixas)} objetos na imagem.\")\n",
    "\n",
    "    for i, box in enumerate(caixas):\n",
    "        classe = int(box.cls[0])\n",
    "        nome = model.names[classe]\n",
    "        confianca = float(box.conf[0])\n",
    "        print(f\"Detecção {i+1}: {nome} (confiança: {confianca:.2f})\")"
   ]
  },
  {
   "cell_type": "markdown",
   "id": "b89e7768",
   "metadata": {},
   "source": [
    "## 4. Função para explorar os resultados"
   ]
  },
  {
   "cell_type": "code",
   "execution_count": 28,
   "id": "19cd15b2",
   "metadata": {},
   "outputs": [],
   "source": [
    "def explorar_resultados(resultados):\n",
    "    if not resultados or not hasattr(resultados[0], \"boxes\") or len(resultados[0].boxes) == 0:\n",
    "        print(\"Nenhum resultado encontrado para explorar.\")\n",
    "        return\n",
    "\n",
    "    resultado = resultados[0]\n",
    "\n",
    "    print(\"\\n=== Informações do resultado ===\")\n",
    "    print(f\"Tipo do objeto resultado: {type(resultado)}\")\n",
    "    print(f\"Quantidade de boxes (detecções): {len(resultado.boxes)}\")\n",
    "\n",
    "    print(\"\\n--- Detalhes de cada box ---\")\n",
    "    for i, box in enumerate(resultado.boxes):\n",
    "        print(f\"Box {i}:\")\n",
    "        print(f\"  Coordenadas: {box.xyxy.cpu().numpy()}\")\n",
    "        print(f\"  Classe: {box.cls.cpu().numpy()}\")\n",
    "        print(f\"  Confiança: {box.conf.cpu().numpy()}\")\n",
    "\n",
    "    print(\"\\nBounding boxes (todas):\")\n",
    "    print(resultado.boxes.xyxy.cpu().numpy())\n",
    "\n",
    "    print(\"\\nClasses detectadas (índices):\")\n",
    "    print(resultado.boxes.cls.cpu().numpy())\n",
    "\n",
    "    print(\"\\nNomes das classes detectadas:\")\n",
    "    for c in resultado.boxes.cls:\n",
    "        print(model.names[int(c)])\n",
    "\n",
    "    print(\"\\nScores de confiança:\")\n",
    "    print(resultado.boxes.conf.cpu().numpy())\n",
    "    print(\"=== Fim dos resultados ===\\n\")"
   ]
  },
  {
   "cell_type": "markdown",
   "id": "b9fad504",
   "metadata": {},
   "source": [
    "## 5. Detecção em imagem com retorno e visualização"
   ]
  },
  {
   "cell_type": "code",
   "execution_count": 29,
   "id": "2aed97f2",
   "metadata": {},
   "outputs": [],
   "source": [
    "# Crie o dicionário só uma vez, antes de rodar as detecções\n",
    "localizacoes_motos = {}\n",
    "\n",
    "def detectar_moto_na_imagem(caminho):\n",
    "    print(f\"\\nProcessando imagem: {caminho}\")\n",
    "    resultados = model.predict(\n",
    "        source=caminho,\n",
    "        conf=0.5,\n",
    "        iou=0.7,\n",
    "        max_det=20,\n",
    "        classes=[3],  # Só motos\n",
    "        save=True,\n",
    "        project='resultados_imagens',\n",
    "        name='detectados',\n",
    "        exist_ok=True\n",
    "    )\n",
    "    mostrar_deteccao(caminho, resultados)\n",
    "    explorar_resultados(resultados)\n",
    "\n",
    "    # Salva as coordenadas das motos detectadas\n",
    "    if resultados and hasattr(resultados[0], \"boxes\") and len(resultados[0].boxes) > 0:\n",
    "        for box in resultados[0].boxes.xyxy.cpu().numpy():\n",
    "            novo_id = len(localizacoes_motos)\n",
    "            localizacoes_motos[novo_id] = box\n",
    "            print(f\"  Moto detectada! ID: {novo_id} | Coordenadas: {box}\")\n",
    "    else:\n",
    "        print(\"  Nenhuma moto detectada nesta imagem.\")"
   ]
  },
  {
   "cell_type": "markdown",
   "id": "faada304",
   "metadata": {},
   "source": [
    "## 6. Executar detecção em todos arquivos da pasta"
   ]
  },
  {
   "cell_type": "code",
   "execution_count": null,
   "id": "86198e86",
   "metadata": {},
   "outputs": [],
   "source": [
    "# Extensões de imagem que vamos aceitar\n",
    "extensoes_imagem = ['.jpg', '.jpeg', '.png']\n",
    "\n",
    "# Listando arquivos do diretório atual\n",
    "arquivos = os.listdir('.')\n",
    "\n",
    "# Filtrando só as imagens\n",
    "imagens = [f for f in arquivos if Path(f).suffix.lower() in extensoes_imagem]\n",
    "\n",
    "# Rodando detecção em cada imagem e salvando as localizações\n",
    "for img in imagens:\n",
    "    detectar_moto_na_imagem(img)"
   ]
  },
  {
   "cell_type": "markdown",
   "id": "fba01e69",
   "metadata": {},
   "source": [
    "## 7. registrar localização de motos detectadas em fotos"
   ]
  },
  {
   "cell_type": "code",
   "execution_count": 31,
   "id": "865abcb2",
   "metadata": {},
   "outputs": [],
   "source": [
    "def mostrar_posicao_moto(id_moto):\n",
    "    print(f\"Buscando posição da moto com ID {id_moto}...\")\n",
    "    if id_moto in localizacoes_motos:\n",
    "        coord = localizacoes_motos[id_moto]\n",
    "        print(f\"Moto ID {id_moto} está na posição (bounding box): {coord}\")\n",
    "    else:\n",
    "        print(f\"Moto ID {id_moto} não encontrada. Tente outro número!\")"
   ]
  },
  {
   "cell_type": "markdown",
   "id": "86213d04",
   "metadata": {},
   "source": [
    "## 8. exibição em mapa 2D"
   ]
  },
  {
   "cell_type": "code",
   "execution_count": 32,
   "id": "ebe36b35",
   "metadata": {},
   "outputs": [],
   "source": [
    "def mapa_2d_motos():\n",
    "    # Mostra um gráfico com as posições das motos detectadas\n",
    "    if not localizacoes_motos:\n",
    "        print(\"Não tem nenhuma moto pra mostrar no mapa.\")\n",
    "        return\n",
    "\n",
    "    plt.figure(figsize=(10, 6))\n",
    "    plt.title(\"Mapa 2D das Motos Detectadas\")\n",
    "    plt.xlabel(\"Eixo X (largura da imagem)\")\n",
    "    plt.ylabel(\"Eixo Y (altura da imagem)\")\n",
    "    plt.grid(True)\n",
    "\n",
    "    for id_moto, (x1, y1, x2, y2) in localizacoes_motos.items():\n",
    "        cx = (x1 + x2) / 2\n",
    "        cy = (y1 + y2) / 2\n",
    "        plt.plot(cx, cy, \"ro\")\n",
    "        plt.text(cx + 5, cy, f\"ID {id_moto}\", fontsize=10, color='blue')\n",
    "\n",
    "    plt.gca().invert_yaxis()\n",
    "    plt.tight_layout()\n",
    "    plt.show()"
   ]
  },
  {
   "cell_type": "code",
   "execution_count": null,
   "id": "585d73b1",
   "metadata": {},
   "outputs": [],
   "source": [
    "# Exibe todas as motos detectadas no terminal\n",
    "print(\"IDs das motos detectadas:\", list(localizacoes_motos.keys()))\n",
    "for id_moto in localizacoes_motos:\n",
    "    mostrar_posicao_moto(id_moto)\n",
    "\n",
    "# Exibe o mapa 2D com todas as motos\n",
    "mapa_2d_motos()"
   ]
  },
  {
   "cell_type": "markdown",
   "id": "ece02e6d",
   "metadata": {},
   "source": [
    "##  9. Lista de classes COCO"
   ]
  },
  {
   "cell_type": "code",
   "execution_count": 16,
   "id": "e5c012c9",
   "metadata": {},
   "outputs": [
    {
     "name": "stdout",
     "output_type": "stream",
     "text": [
      "0: person\n",
      "1: bicycle\n",
      "2: car\n",
      "3: motorcycle\n",
      "4: airplane\n",
      "5: bus\n",
      "6: train\n",
      "7: truck\n",
      "8: boat\n",
      "9: traffic light\n",
      "10: fire hydrant\n",
      "11: stop sign\n",
      "12: parking meter\n",
      "13: bench\n",
      "14: bird\n",
      "15: cat\n",
      "16: dog\n",
      "17: horse\n",
      "18: sheep\n",
      "19: cow\n",
      "20: elephant\n",
      "21: bear\n",
      "22: zebra\n",
      "23: giraffe\n",
      "24: backpack\n",
      "25: umbrella\n",
      "26: handbag\n",
      "27: tie\n",
      "28: suitcase\n",
      "29: frisbee\n",
      "30: skis\n",
      "31: snowboard\n",
      "32: sports ball\n",
      "33: kite\n",
      "34: baseball bat\n",
      "35: baseball glove\n",
      "36: skateboard\n",
      "37: surfboard\n",
      "38: tennis racket\n",
      "39: bottle\n",
      "40: wine glass\n",
      "41: cup\n",
      "42: fork\n",
      "43: knife\n",
      "44: spoon\n",
      "45: bowl\n",
      "46: banana\n",
      "47: apple\n",
      "48: sandwich\n",
      "49: orange\n",
      "50: broccoli\n",
      "51: carrot\n",
      "52: hot dog\n",
      "53: pizza\n",
      "54: donut\n",
      "55: cake\n",
      "56: chair\n",
      "57: couch\n",
      "58: potted plant\n",
      "59: bed\n",
      "60: dining table\n",
      "61: toilet\n",
      "62: tv\n",
      "63: laptop\n",
      "64: mouse\n",
      "65: remote\n",
      "66: keyboard\n",
      "67: cell phone\n",
      "68: microwave\n",
      "69: oven\n",
      "70: toaster\n",
      "71: sink\n",
      "72: refrigerator\n",
      "73: book\n",
      "74: clock\n",
      "75: vase\n",
      "76: scissors\n",
      "77: teddy bear\n",
      "78: hair drier\n",
      "79: toothbrush\n"
     ]
    }
   ],
   "source": [
    "# Lista de todas as classes que o modelo reconhece\n",
    "for idx, class_name in model.names.items():\n",
    "    print(f\"{idx}: {class_name}\")\n"
   ]
  }
 ],
 "metadata": {
  "kernelspec": {
   "display_name": "Python 3",
   "language": "python",
   "name": "python3"
  },
  "language_info": {
   "codemirror_mode": {
    "name": "ipython",
    "version": 3
   },
   "file_extension": ".py",
   "mimetype": "text/x-python",
   "name": "python",
   "nbconvert_exporter": "python",
   "pygments_lexer": "ipython3",
   "version": "3.13.2"
  }
 },
 "nbformat": 4,
 "nbformat_minor": 5
}
