{
 "cells": [
  {
   "cell_type": "markdown",
   "id": "b9bb84b7",
   "metadata": {},
   "source": [
    "## 1. Instalação e Setup"
   ]
  },
  {
   "cell_type": "code",
   "execution_count": 6,
   "id": "f8e158fb",
   "metadata": {},
   "outputs": [
    {
     "name": "stderr",
     "output_type": "stream",
     "text": [
      "\n",
      "[notice] A new release of pip is available: 25.0.1 -> 25.1.1\n",
      "[notice] To update, run: python.exe -m pip install --upgrade pip\n"
     ]
    }
   ],
   "source": [
    "# YOLO + StrongSORT + OpenCV + Supervision\n",
    "!pip install ultralytics supervision opencv-python --quiet\n"
   ]
  },
  {
   "cell_type": "code",
   "execution_count": null,
   "id": "7db1507f",
   "metadata": {},
   "outputs": [],
   "source": [
    "# Importação das bibliotecas necessárias\n",
    "from ultralytics import YOLO\n",
    "import supervision as sv\n",
    "import cv2\n",
    "import numpy as np\n",
    "import matplotlib.pyplot as plt\n",
    "import os"
   ]
  },
  {
   "cell_type": "markdown",
   "id": "2d0b7acd",
   "metadata": {},
   "source": [
    "## 2. Carregando um modelo pré-treinado"
   ]
  },
  {
   "cell_type": "code",
   "execution_count": null,
   "id": "66e7c775",
   "metadata": {},
   "outputs": [],
   "source": [
    "# Carregando o modelo YOLOv8n (nano - versão mais leve)\n",
    "model = YOLO('yolov8l.pt')\n",
    "\n",
    "# Também podemos carregar diferentes tamanhos de modelo:\n",
    "# model = YOLO('yolov8s.pt')  # small\n",
    "# model = YOLO('yolov8m.pt')  # medium\n",
    "# model = YOLO('yolov8l.pt')  # large\n",
    "# model = YOLO('yolov8x.pt')  # extra large\n",
    "\n",
    "# Ativando o StrongSORT como rastreador\n",
    "model.trackers = \"botsort.yaml\"  # pode trocar por 'strongsort.yaml' se preferir"
   ]
  },
  {
   "cell_type": "markdown",
   "id": "f9cee0f1",
   "metadata": {},
   "source": [
    "## 4. Função para processar vídeo e rastrear motos com IDs"
   ]
  },
  {
   "cell_type": "code",
   "execution_count": null,
   "id": "130559e3",
   "metadata": {},
   "outputs": [],
   "source": [
    "def track_motos(video_path):\n",
    "    cap = cv2.VideoCapture(video_path)\n",
    "\n",
    "    frames_annotated = []\n",
    "    ids_inicio = set()\n",
    "    ids_fim = set()\n",
    "\n",
    "    frame_count = int(cap.get(cv2.CAP_PROP_FRAME_COUNT))\n",
    "    frame_idx = 0\n",
    "\n",
    "    print(\"⏳ Iniciando rastreamento do vídeo...\")\n",
    "\n",
    "    while True:\n",
    "        ret, frame = cap.read()\n",
    "        if not ret:\n",
    "            break\n",
    "\n",
    "        # Detecção com rastreamento (apenas motos: classe 3 no COCO)\n",
    "        results = model.track(\n",
    "            frame,\n",
    "            persist=True,\n",
    "            conf=0.5,\n",
    "            iou=0.7,\n",
    "            classes=[3],  # somente motos\n",
    "            verbose=False\n",
    "        )\n",
    "\n",
    "        # Desenhar resultados no frame\n",
    "        annotated_frame = results[0].plot()\n",
    "        frames_annotated.append(annotated_frame)\n",
    "\n",
    "        # Extrair IDs rastreados neste frame\n",
    "        boxes = results[0].boxes\n",
    "        ids = boxes.id if boxes and boxes.id is not None else []\n",
    "\n",
    "        # Armazena os IDs do primeiro e último frame\n",
    "        if frame_idx == 0:\n",
    "            ids_inicio.update([int(i) for i in ids])\n",
    "        elif frame_idx == frame_count - 1:\n",
    "            ids_fim.update([int(i) for i in ids])\n",
    "\n",
    "        frame_idx += 1\n",
    "\n",
    "    cap.release()\n",
    "\n",
    "    # Análise final\n",
    "    motos_estacionadas = ids_inicio & ids_fim\n",
    "    motos_sairam = ids_inicio - ids_fim\n",
    "    motos_entraram = ids_fim - ids_inicio\n",
    "\n",
    "    print(\"\\nResumo do rastreamento:\")\n",
    "    print(f\"Motos que permaneceram estacionadas: {motos_estacionadas}\")\n",
    "    print(f\"Motos que saíram: {motos_sairam}\")\n",
    "    print(f\"Motos que entraram: {motos_entraram}\")\n",
    "\n",
    "    return frames_annotated, motos_entraram, motos_sairam, motos_estacionadas\n"
   ]
  },
  {
   "cell_type": "markdown",
   "id": "faada304",
   "metadata": {},
   "source": [
    "## 5. Função para visualizar um frame específico com as detecções"
   ]
  },
  {
   "cell_type": "code",
   "execution_count": null,
   "id": "86198e86",
   "metadata": {},
   "outputs": [],
   "source": [
    "def show_frame(frames, index):\n",
    "    if index < 0:\n",
    "        index = len(frames) + index  # permite usar -1 para último frame\n",
    "    if 0 <= index < len(frames):\n",
    "        plt.figure(figsize=(12, 8))\n",
    "        plt.imshow(cv2.cvtColor(frames[index], cv2.COLOR_BGR2RGB))\n",
    "        plt.axis('off')\n",
    "        plt.title(f'Frame {index}')\n",
    "        plt.show()\n",
    "    else:\n",
    "        print(\"❌ Índice fora do intervalo.\")\n"
   ]
  },
  {
   "cell_type": "markdown",
   "id": "e96c3e2e",
   "metadata": {},
   "source": [
    "## 6. Enviar vídeo e executar o rastreamento"
   ]
  },
  {
   "cell_type": "code",
   "execution_count": null,
   "id": "f9855c2f",
   "metadata": {},
   "outputs": [],
   "source": [
    "# Substitua pelo nome do seu vídeo ou caminho completo\n",
    "video_path = \"video.mp4\"  # Exemplo: \"estacionamento_motttu.mp4\"\n",
    "\n",
    "# Executa rastreamento com StrongSORT\n",
    "frames, entrou, saiu, permaneceu = track_motos(video_path)"
   ]
  },
  {
   "cell_type": "markdown",
   "id": "3d47859a",
   "metadata": {},
   "source": [
    "## 7. Visualizar frames anotados com IDs"
   ]
  },
  {
   "cell_type": "code",
   "execution_count": null,
   "id": "d2641d8c",
   "metadata": {},
   "outputs": [],
   "source": [
    "# Primeiro frame com IDs\n",
    "show_frame(frames, 0)\n",
    "\n",
    "# Último frame com IDs\n",
    "show_frame(frames, -1)\n"
   ]
  },
  {
   "cell_type": "markdown",
   "id": "b3653271",
   "metadata": {},
   "source": [
    "## 8. (Opcional) Salvar vídeo final com rastreamento"
   ]
  },
  {
   "cell_type": "code",
   "execution_count": null,
   "id": "e3749218",
   "metadata": {},
   "outputs": [],
   "source": [
    "def export_video(frames, output_path, fps=30):\n",
    "    h, w, _ = frames[0].shape\n",
    "    writer = cv2.VideoWriter(output_path, cv2.VideoWriter_fourcc(*'mp4v'), fps, (w, h))\n",
    "\n",
    "    for frame in frames:\n",
    "        writer.write(frame)\n",
    "    writer.release()\n",
    "\n",
    "    print(f\"🎬 Vídeo exportado com sucesso para: {output_path}\")\n"
   ]
  },
  {
   "cell_type": "code",
   "execution_count": null,
   "id": "7bfc6cbd",
   "metadata": {},
   "outputs": [],
   "source": [
    "export_video(frames, \"saida_video_com_rastreamento.mp4\")\n"
   ]
  },
  {
   "cell_type": "markdown",
   "id": "ece02e6d",
   "metadata": {},
   "source": [
    "##  7. Lista de classes COCO"
   ]
  },
  {
   "cell_type": "code",
   "execution_count": 16,
   "id": "e5c012c9",
   "metadata": {},
   "outputs": [
    {
     "name": "stdout",
     "output_type": "stream",
     "text": [
      "0: person\n",
      "1: bicycle\n",
      "2: car\n",
      "3: motorcycle\n",
      "4: airplane\n",
      "5: bus\n",
      "6: train\n",
      "7: truck\n",
      "8: boat\n",
      "9: traffic light\n",
      "10: fire hydrant\n",
      "11: stop sign\n",
      "12: parking meter\n",
      "13: bench\n",
      "14: bird\n",
      "15: cat\n",
      "16: dog\n",
      "17: horse\n",
      "18: sheep\n",
      "19: cow\n",
      "20: elephant\n",
      "21: bear\n",
      "22: zebra\n",
      "23: giraffe\n",
      "24: backpack\n",
      "25: umbrella\n",
      "26: handbag\n",
      "27: tie\n",
      "28: suitcase\n",
      "29: frisbee\n",
      "30: skis\n",
      "31: snowboard\n",
      "32: sports ball\n",
      "33: kite\n",
      "34: baseball bat\n",
      "35: baseball glove\n",
      "36: skateboard\n",
      "37: surfboard\n",
      "38: tennis racket\n",
      "39: bottle\n",
      "40: wine glass\n",
      "41: cup\n",
      "42: fork\n",
      "43: knife\n",
      "44: spoon\n",
      "45: bowl\n",
      "46: banana\n",
      "47: apple\n",
      "48: sandwich\n",
      "49: orange\n",
      "50: broccoli\n",
      "51: carrot\n",
      "52: hot dog\n",
      "53: pizza\n",
      "54: donut\n",
      "55: cake\n",
      "56: chair\n",
      "57: couch\n",
      "58: potted plant\n",
      "59: bed\n",
      "60: dining table\n",
      "61: toilet\n",
      "62: tv\n",
      "63: laptop\n",
      "64: mouse\n",
      "65: remote\n",
      "66: keyboard\n",
      "67: cell phone\n",
      "68: microwave\n",
      "69: oven\n",
      "70: toaster\n",
      "71: sink\n",
      "72: refrigerator\n",
      "73: book\n",
      "74: clock\n",
      "75: vase\n",
      "76: scissors\n",
      "77: teddy bear\n",
      "78: hair drier\n",
      "79: toothbrush\n"
     ]
    }
   ],
   "source": [
    "# Lista de todas as classes que o modelo reconhece\n",
    "for idx, class_name in model.names.items():\n",
    "    print(f\"{idx}: {class_name}\")\n"
   ]
  }
 ],
 "metadata": {
  "kernelspec": {
   "display_name": "Python 3",
   "language": "python",
   "name": "python3"
  },
  "language_info": {
   "codemirror_mode": {
    "name": "ipython",
    "version": 3
   },
   "file_extension": ".py",
   "mimetype": "text/x-python",
   "name": "python",
   "nbconvert_exporter": "python",
   "pygments_lexer": "ipython3",
   "version": "3.13.3"
  }
 },
 "nbformat": 4,
 "nbformat_minor": 5
}
